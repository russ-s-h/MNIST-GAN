{
 "cells": [
  {
   "cell_type": "code",
   "execution_count": 1,
   "metadata": {},
   "outputs": [],
   "source": [
    "import os\n",
    "import time\n",
    "import random\n",
    "import tensorflow as tf\n",
    "\n",
    "from tensorflow.keras.optimizers import Adam\n",
    "from tensorflow.keras.layers import *\n",
    "from tensorflow.keras.models import Model\n",
    "from tensorflow.keras.datasets import mnist\n",
    "\n",
    "os.environ['CUDA_VISIBLE_DEVICES'] = '0'"
   ]
  },
  {
   "cell_type": "code",
   "execution_count": 2,
   "metadata": {},
   "outputs": [],
   "source": [
    "#set up the training and testing data\n",
    "(x_train, y_train), (x_test, y_test) = mnist.load_data()\n",
    "x_train, x_test = [x/255.0 for x in [x_train, x_test]]\n",
    "y_train, y_test = [tf.keras.utils.to_categorical(y) for y in [y_train, y_test]]"
   ]
  },
  {
   "cell_type": "code",
   "execution_count": 3,
   "metadata": {},
   "outputs": [],
   "source": [
    "#for more on the Adam Optimizer: https://keras.io/api/optimizers/adam/\n",
    "opt = Adam()"
   ]
  },
  {
   "cell_type": "code",
   "execution_count": 22,
   "metadata": {},
   "outputs": [],
   "source": [
    "class Discriminator:\n",
    "    def __init__(self):\n",
    "        dm = in1 = Input((28,28))\n",
    "        dm = Reshape((28,28,1))(dm)\n",
    "        \n",
    "        dm = Conv2D(64, (5,5), padding='same', strides=(2,2))(dm)\n",
    "        dm = BatchNormalization()(dm)\n",
    "        dm = ELU()(dm)\n",
    "        \n",
    "        dm = Conv2D(128, (5,5), padding='same', strides=(2,2))(dm)\n",
    "        dm = BatchNormalization()(dm)\n",
    "        dm = ELU()(dm)\n",
    "        \n",
    "        dm = Flatten()(dm)\n",
    "        dm = Dense(128)(dm)\n",
    "        dm = BatchNormalization()(dm)\n",
    "        dm = ELU()(dm)\n",
    "        dm = Dense(1, activation='sigmoid')(dm)\n",
    "        # Compile the model\n",
    "        self.model = Model(in1, dm)\n",
    "        self.model.compile(opt, 'binary_crossentropy')\n",
    "        self.model.summary()"
   ]
  },
  {
   "cell_type": "code",
   "execution_count": 24,
   "metadata": {},
   "outputs": [],
   "source": [
    "class Generator:\n",
    "    def __init__(self, ZDIM):\n",
    "        gm = in1 = Input((ZDIM,))\n",
    "        \n",
    "        gm = Dense(7*7*64)(gm)\n",
    "        gm = BatchNormalization()(gm)\n",
    "        gm = ELU()(gm)\n",
    "        gm = Reshape((7,7,64))(gm)\n",
    "        \n",
    "        gm = Conv2DTranspose(128, (5,5), strides=(2,2), padding='same')(gm)\n",
    "        gm = BatchNormalization()(gm)\n",
    "        gm = ELU()(gm)\n",
    "        \n",
    "        gm = Conv2DTranspose(1, (5,5), strides=(2,2), padding='same')(gm)\n",
    "        gm = Activation('sigmoid')(gm)\n",
    "        gm = Reshape((28,28))(gm)\n",
    "        # Compile the model\n",
    "        self.model = Model(in1, gm)\n",
    "        self.model.compile('adam', 'mse')\n",
    "        self.model.summary()"
   ]
  },
  {
   "cell_type": "code",
   "execution_count": 26,
   "metadata": {},
   "outputs": [
    {
     "name": "stdout",
     "output_type": "stream",
     "text": [
      "Model: \"model_5\"\n",
      "_________________________________________________________________\n",
      "Layer (type)                 Output Shape              Param #   \n",
      "=================================================================\n",
      "input_11 (InputLayer)        [(None, 28, 28)]          0         \n",
      "_________________________________________________________________\n",
      "reshape_8 (Reshape)          (None, 28, 28, 1)         0         \n",
      "_________________________________________________________________\n",
      "conv2d_16 (Conv2D)           (None, 14, 14, 64)        1664      \n",
      "_________________________________________________________________\n",
      "batch_normalization_20 (Batc (None, 14, 14, 64)        256       \n",
      "_________________________________________________________________\n",
      "elu_20 (ELU)                 (None, 14, 14, 64)        0         \n",
      "_________________________________________________________________\n",
      "conv2d_17 (Conv2D)           (None, 7, 7, 128)         204928    \n",
      "_________________________________________________________________\n",
      "batch_normalization_21 (Batc (None, 7, 7, 128)         512       \n",
      "_________________________________________________________________\n",
      "elu_21 (ELU)                 (None, 7, 7, 128)         0         \n",
      "_________________________________________________________________\n",
      "flatten_8 (Flatten)          (None, 6272)              0         \n",
      "_________________________________________________________________\n",
      "dense_10 (Dense)             (None, 128)               802944    \n",
      "_________________________________________________________________\n",
      "batch_normalization_22 (Batc (None, 128)               512       \n",
      "_________________________________________________________________\n",
      "elu_22 (ELU)                 (None, 128)               0         \n",
      "_________________________________________________________________\n",
      "dense_11 (Dense)             (None, 1)                 129       \n",
      "=================================================================\n",
      "Total params: 1,010,945\n",
      "Trainable params: 1,010,305\n",
      "Non-trainable params: 640\n",
      "_________________________________________________________________\n",
      "Model: \"model_6\"\n",
      "_________________________________________________________________\n",
      "Layer (type)                 Output Shape              Param #   \n",
      "=================================================================\n",
      "input_12 (InputLayer)        [(None, 100)]             0         \n",
      "_________________________________________________________________\n",
      "dense_12 (Dense)             (None, 3136)              316736    \n",
      "_________________________________________________________________\n",
      "batch_normalization_23 (Batc (None, 3136)              12544     \n",
      "_________________________________________________________________\n",
      "elu_23 (ELU)                 (None, 3136)              0         \n",
      "_________________________________________________________________\n",
      "reshape_9 (Reshape)          (None, 7, 7, 64)          0         \n",
      "_________________________________________________________________\n",
      "conv2d_transpose (Conv2DTran (None, 14, 14, 128)       204928    \n",
      "_________________________________________________________________\n",
      "batch_normalization_24 (Batc (None, 14, 14, 128)       512       \n",
      "_________________________________________________________________\n",
      "elu_24 (ELU)                 (None, 14, 14, 128)       0         \n",
      "_________________________________________________________________\n",
      "conv2d_transpose_1 (Conv2DTr (None, 28, 28, 1)         3201      \n",
      "_________________________________________________________________\n",
      "activation (Activation)      (None, 28, 28, 1)         0         \n",
      "_________________________________________________________________\n",
      "reshape_10 (Reshape)         (None, 28, 28)            0         \n",
      "=================================================================\n",
      "Total params: 537,921\n",
      "Trainable params: 531,393\n",
      "Non-trainable params: 6,528\n",
      "_________________________________________________________________\n"
     ]
    }
   ],
   "source": [
    "x = Discriminator()\n",
    "y = Generator(100)"
   ]
  },
  {
   "cell_type": "code",
   "execution_count": null,
   "metadata": {},
   "outputs": [],
   "source": []
  }
 ],
 "metadata": {
  "kernelspec": {
   "display_name": "Python 3",
   "language": "python",
   "name": "python3"
  },
  "language_info": {
   "codemirror_mode": {
    "name": "ipython",
    "version": 3
   },
   "file_extension": ".py",
   "mimetype": "text/x-python",
   "name": "python",
   "nbconvert_exporter": "python",
   "pygments_lexer": "ipython3",
   "version": "3.8.5"
  }
 },
 "nbformat": 4,
 "nbformat_minor": 4
}
